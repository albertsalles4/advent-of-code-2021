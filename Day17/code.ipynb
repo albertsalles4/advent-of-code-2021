{
 "cells": [
  {
   "cell_type": "markdown",
   "id": "4b80d2ed",
   "metadata": {},
   "source": [
    "## Day 17"
   ]
  },
  {
   "cell_type": "raw",
   "id": "ab5d0447",
   "metadata": {},
   "source": [
    "--- Day 17: Trick Shot ---\n",
    "You finally decode the Elves' message. HI, the message says. You continue searching for the sleigh keys.\n",
    "\n",
    "Ahead of you is what appears to be a large ocean trench. Could the keys have fallen into it? You'd better send a probe to investigate.\n",
    "\n",
    "The probe launcher on your submarine can fire the probe with any integer velocity in the x (forward) and y (upward, or downward if negative) directions. For example, an initial x,y velocity like 0,10 would fire the probe straight up, while an initial velocity like 10,-1 would fire the probe forward at a slight downward angle.\n",
    "\n",
    "The probe's x,y position starts at 0,0. Then, it will follow some trajectory by moving in steps. On each step, these changes occur in the following order:\n",
    "\n",
    "The probe's x position increases by its x velocity.\n",
    "The probe's y position increases by its y velocity.\n",
    "Due to drag, the probe's x velocity changes by 1 toward the value 0; that is, it decreases by 1 if it is greater than 0, increases by 1 if it is less than 0, or does not change if it is already 0.\n",
    "Due to gravity, the probe's y velocity decreases by 1.\n",
    "For the probe to successfully make it into the trench, the probe must be on some trajectory that causes it to be within a target area after any step. The submarine computer has already calculated this target area (your puzzle input). For example:\n",
    "\n",
    "target area: x=20..30, y=-10..-5\n",
    "This target area means that you need to find initial x,y velocity values such that after any step, the probe's x position is at least 20 and at most 30, and the probe's y position is at least -10 and at most -5.\n",
    "\n",
    "Given this target area, one initial velocity that causes the probe to be within the target area after any step is 7,2:\n",
    "\n",
    ".............#....#............\n",
    ".......#..............#........\n",
    "...............................\n",
    "S........................#.....\n",
    "...............................\n",
    "...............................\n",
    "...........................#...\n",
    "...............................\n",
    "....................TTTTTTTTTTT\n",
    "....................TTTTTTTTTTT\n",
    "....................TTTTTTTT#TT\n",
    "....................TTTTTTTTTTT\n",
    "....................TTTTTTTTTTT\n",
    "....................TTTTTTTTTTT\n",
    "In this diagram, S is the probe's initial position, 0,0. The x coordinate increases to the right, and the y coordinate increases upward. In the bottom right, positions that are within the target area are shown as T. After each step (until the target area is reached), the position of the probe is marked with #. (The bottom-right # is both a position the probe reaches and a position in the target area.)\n",
    "\n",
    "Another initial velocity that causes the probe to be within the target area after any step is 6,3:\n",
    "\n",
    "...............#..#............\n",
    "...........#........#..........\n",
    "...............................\n",
    "......#..............#.........\n",
    "...............................\n",
    "...............................\n",
    "S....................#.........\n",
    "...............................\n",
    "...............................\n",
    "...............................\n",
    ".....................#.........\n",
    "....................TTTTTTTTTTT\n",
    "....................TTTTTTTTTTT\n",
    "....................TTTTTTTTTTT\n",
    "....................TTTTTTTTTTT\n",
    "....................T#TTTTTTTTT\n",
    "....................TTTTTTTTTTT\n",
    "Another one is 9,0:\n",
    "\n",
    "S........#.....................\n",
    ".................#.............\n",
    "...............................\n",
    "........................#......\n",
    "...............................\n",
    "....................TTTTTTTTTTT\n",
    "....................TTTTTTTTTT#\n",
    "....................TTTTTTTTTTT\n",
    "....................TTTTTTTTTTT\n",
    "....................TTTTTTTTTTT\n",
    "....................TTTTTTTTTTT\n",
    "One initial velocity that doesn't cause the probe to be within the target area after any step is 17,-4:\n",
    "\n",
    "S..............................................................\n",
    "...............................................................\n",
    "...............................................................\n",
    "...............................................................\n",
    ".................#.............................................\n",
    "....................TTTTTTTTTTT................................\n",
    "....................TTTTTTTTTTT................................\n",
    "....................TTTTTTTTTTT................................\n",
    "....................TTTTTTTTTTT................................\n",
    "....................TTTTTTTTTTT..#.............................\n",
    "....................TTTTTTTTTTT................................\n",
    "...............................................................\n",
    "...............................................................\n",
    "...............................................................\n",
    "...............................................................\n",
    "................................................#..............\n",
    "...............................................................\n",
    "...............................................................\n",
    "...............................................................\n",
    "...............................................................\n",
    "...............................................................\n",
    "...............................................................\n",
    "..............................................................#\n",
    "The probe appears to pass through the target area, but is never within it after any step. Instead, it continues down and to the right - only the first few steps are shown.\n",
    "\n",
    "If you're going to fire a highly scientific probe out of a super cool probe launcher, you might as well do it with style. How high can you make the probe go while still reaching the target area?\n",
    "\n",
    "In the above example, using an initial velocity of 6,9 is the best you can do, causing the probe to reach a maximum y position of 45. (Any higher initial y velocity causes the probe to overshoot the target area entirely.)\n",
    "\n",
    "Find the initial velocity that causes the probe to reach the highest y position and still eventually be within the target area after any step. What is the highest y position it reaches on this trajectory?"
   ]
  },
  {
   "cell_type": "code",
   "execution_count": 1,
   "id": "58d5a80f",
   "metadata": {},
   "outputs": [],
   "source": [
    "import os\n",
    "import numpy as np\n",
    "\n",
    "def read_file(filename=\"input.txt\", path=os.path.join(os.getcwd())):\n",
    "    with open(os.path.join(path, filename), \"r\") as f:\n",
    "        input_list = [line.strip() for line in f]\n",
    "    return input_list"
   ]
  },
  {
   "cell_type": "code",
   "execution_count": 56,
   "id": "59e546ef",
   "metadata": {},
   "outputs": [],
   "source": [
    "def preprocess_input(input_list):\n",
    "    line = input_list[0]\n",
    "    target_area = line[13:]\n",
    "    x, y = target_area.split(', ')\n",
    "    x0, x1 = x[2:].split('..')\n",
    "    y0, y1 = y[2:].split('..')\n",
    "    return int(x0), int(x1), int(y0), int(y1)\n",
    "\n",
    "def simulate(velocity, target_area):\n",
    "    steps = 0\n",
    "    x, y = 0, 0\n",
    "    velx, vely = velocity\n",
    "    x0, x1, y0, y1 = target_area\n",
    "    target_hit = x0 <= x <= x1 and y0 <= y <= y1\n",
    "    target_passed = x1 < x and y1 < y\n",
    "    \n",
    "    maxy = 0\n",
    "    \n",
    "    while not target_hit:\n",
    "        steps += 1\n",
    "        x += velx\n",
    "        y += vely\n",
    "        \n",
    "        if y > maxy:\n",
    "            maxy = y\n",
    "        \n",
    "        if velx != 0:\n",
    "            velx -= 1 if velx > 0 else -1\n",
    "        \n",
    "        vely -= 1\n",
    "        \n",
    "        target_hit = x0 <= x <= x1 and y0 <= y <= y1\n",
    "        if y < y0 or x > x1:\n",
    "            break\n",
    "        \n",
    "    return (steps, maxy) if target_hit else (-1, maxy)"
   ]
  },
  {
   "cell_type": "code",
   "execution_count": 57,
   "id": "7d070a92",
   "metadata": {},
   "outputs": [],
   "source": [
    "example = [\n",
    "    \"target area: x=20..30, y=-10..-5\",\n",
    "]"
   ]
  },
  {
   "cell_type": "code",
   "execution_count": 58,
   "id": "b9375a86",
   "metadata": {},
   "outputs": [
    {
     "name": "stdout",
     "output_type": "stream",
     "text": [
      "Velocity with maximum height is (15, 153) and its height is 11781\n"
     ]
    }
   ],
   "source": [
    "x0, x1, y0, y1 = preprocess_input(read_file())\n",
    "\n",
    "max_height = 0\n",
    "final_vel = (0, 0)\n",
    "for velx in range(x1+1):\n",
    "    for vely in range(y0, 2*abs(y1)+1):\n",
    "        steps, m = simulate((velx, vely), (x0, x1, y0, y1))\n",
    "        if steps > 0 and m > max_height:\n",
    "            max_height = m\n",
    "            final_vel = (velx, vely)\n",
    "            \n",
    "print(f\"Velocity with maximum height is {final_vel} and its height is {max_height}\")"
   ]
  },
  {
   "cell_type": "code",
   "execution_count": 62,
   "id": "86be38b5",
   "metadata": {},
   "outputs": [
    {
     "name": "stdout",
     "output_type": "stream",
     "text": [
      "Number of initial velocities that land into target area: 4531\n"
     ]
    }
   ],
   "source": [
    "x0, x1, y0, y1 = preprocess_input(read_file())\n",
    "\n",
    "s = 0\n",
    "for velx in range(x1+1):\n",
    "    for vely in range(y0, 2*abs(y1)+1):\n",
    "        steps, m = simulate((velx, vely), (x0, x1, y0, y1))\n",
    "        if steps >= 0:\n",
    "            s += 1\n",
    "            \n",
    "print(f\"Number of initial velocities that land into target area: {s}\")"
   ]
  }
 ],
 "metadata": {
  "kernelspec": {
   "display_name": "Python 3 (ipykernel)",
   "language": "python",
   "name": "python3"
  },
  "language_info": {
   "codemirror_mode": {
    "name": "ipython",
    "version": 3
   },
   "file_extension": ".py",
   "mimetype": "text/x-python",
   "name": "python",
   "nbconvert_exporter": "python",
   "pygments_lexer": "ipython3",
   "version": "3.8.10"
  }
 },
 "nbformat": 4,
 "nbformat_minor": 5
}
