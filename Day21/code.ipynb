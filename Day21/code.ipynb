{
 "cells": [
  {
   "cell_type": "markdown",
   "id": "4b80d2ed",
   "metadata": {},
   "source": [
    "## Day 21"
   ]
  },
  {
   "cell_type": "raw",
   "id": "ab5d0447",
   "metadata": {},
   "source": [
    "--- Day 21: Dirac Dice ---\n",
    "There's not much to do as you slowly descend to the bottom of the ocean. The submarine computer challenges you to a nice game of Dirac Dice.\n",
    "\n",
    "This game consists of a single die, two pawns, and a game board with a circular track containing ten spaces marked 1 through 10 clockwise. Each player's starting space is chosen randomly (your puzzle input). Player 1 goes first.\n",
    "\n",
    "Players take turns moving. On each player's turn, the player rolls the die three times and adds up the results. Then, the player moves their pawn that many times forward around the track (that is, moving clockwise on spaces in order of increasing value, wrapping back around to 1 after 10). So, if a player is on space 7 and they roll 2, 2, and 1, they would move forward 5 times, to spaces 8, 9, 10, 1, and finally stopping on 2.\n",
    "\n",
    "After each player moves, they increase their score by the value of the space their pawn stopped on. Players' scores start at 0. So, if the first player starts on space 7 and rolls a total of 5, they would stop on space 2 and add 2 to their score (for a total score of 2). The game immediately ends as a win for any player whose score reaches at least 1000.\n",
    "\n",
    "Since the first game is a practice game, the submarine opens a compartment labeled deterministic dice and a 100-sided die falls out. This die always rolls 1 first, then 2, then 3, and so on up to 100, after which it starts over at 1 again. Play using this die.\n",
    "\n",
    "For example, given these starting positions:\n",
    "\n",
    "Player 1 starting position: 4\n",
    "Player 2 starting position: 8\n",
    "This is how the game would go:\n",
    "\n",
    "Player 1 rolls 1+2+3 and moves to space 10 for a total score of 10.\n",
    "Player 2 rolls 4+5+6 and moves to space 3 for a total score of 3.\n",
    "Player 1 rolls 7+8+9 and moves to space 4 for a total score of 14.\n",
    "Player 2 rolls 10+11+12 and moves to space 6 for a total score of 9.\n",
    "Player 1 rolls 13+14+15 and moves to space 6 for a total score of 20.\n",
    "Player 2 rolls 16+17+18 and moves to space 7 for a total score of 16.\n",
    "Player 1 rolls 19+20+21 and moves to space 6 for a total score of 26.\n",
    "Player 2 rolls 22+23+24 and moves to space 6 for a total score of 22.\n",
    "...after many turns...\n",
    "\n",
    "Player 2 rolls 82+83+84 and moves to space 6 for a total score of 742.\n",
    "Player 1 rolls 85+86+87 and moves to space 4 for a total score of 990.\n",
    "Player 2 rolls 88+89+90 and moves to space 3 for a total score of 745.\n",
    "Player 1 rolls 91+92+93 and moves to space 10 for a final score, 1000.\n",
    "Since player 1 has at least 1000 points, player 1 wins and the game ends. At this point, the losing player had 745 points and the die had been rolled a total of 993 times; 745 * 993 = 739785.\n",
    "\n",
    "Play a practice game using the deterministic 100-sided die. The moment either player wins, what do you get if you multiply the score of the losing player by the number of times the die was rolled during the game?"
   ]
  },
  {
   "cell_type": "code",
   "execution_count": 1,
   "id": "58d5a80f",
   "metadata": {},
   "outputs": [],
   "source": [
    "import os\n",
    "import numpy as np\n",
    "\n",
    "def read_file(filename=\"input.txt\", path=os.path.join(os.getcwd())):\n",
    "    with open(os.path.join(path, filename), \"r\") as f:\n",
    "        input_list = [line.strip() for line in f]\n",
    "    return input_list"
   ]
  },
  {
   "cell_type": "code",
   "execution_count": 43,
   "id": "59e546ef",
   "metadata": {},
   "outputs": [],
   "source": [
    "def preprocess_input(input_list):\n",
    "    return [int(line[-1]) for line in input_list]\n",
    "\n",
    "def move_pos(pos, dice):\n",
    "    return (pos + dice - 1)%10 + 1\n",
    "\n",
    "def play(p, s, die):\n",
    "    r = 0\n",
    "    for _ in range(3):\n",
    "        r += die\n",
    "        die = die%100 + 1\n",
    "        \n",
    "    p = move_pos(p, r)\n",
    "    s += p\n",
    "    return p, s, die"
   ]
  },
  {
   "cell_type": "code",
   "execution_count": 44,
   "id": "1d99ab35",
   "metadata": {},
   "outputs": [],
   "source": [
    "example = [\n",
    "    \"Player 1 starting position: 4\",\n",
    "    \"Player 2 starting position: 8\"\n",
    "]"
   ]
  },
  {
   "cell_type": "code",
   "execution_count": 47,
   "id": "f7504ef4",
   "metadata": {},
   "outputs": [
    {
     "name": "stdout",
     "output_type": "stream",
     "text": [
      "Player 1 wins. Its score is 1000 after 747 rolls. Final score is 518418\n"
     ]
    }
   ],
   "source": [
    "p1, p2 = preprocess_input(read_file())\n",
    "s1 = s2 = 0\n",
    "\n",
    "die = 1\n",
    "turn = 0\n",
    "game_finished = False\n",
    "\n",
    "while not game_finished:\n",
    "    if turn%2 == 0:\n",
    "        p1, s1, die = play(p1, s1, die)\n",
    "    else:\n",
    "        p2, s2, die = play(p2, s2, die)\n",
    "    \n",
    "    game_finished = s1 >= 1000 or s2 >= 1000\n",
    "    turn += 1\n",
    "    \n",
    "if s1 >= 1000:\n",
    "    print(f\"Player 1 wins. Its score is {s1} after {3*turn} rolls. Final score is {s2*3*turn}\")\n",
    "else:\n",
    "    print(f\"Player 2 wins. Its score is {s1} after {3*turn} rolls. Final score is {s1*3*turn}\")"
   ]
  },
  {
   "cell_type": "code",
   "execution_count": 55,
   "id": "89807f5c",
   "metadata": {},
   "outputs": [],
   "source": [
    "# Min score in a turn is 3, max is 9\n",
    "# How many universes can a die roll come from\n",
    "die_rolls = [0, 0, 0, 1, 3, 6, 7, 6, 3, 1]\n",
    "\n",
    "def count_winning_universes(pos1, pos2, score1, score2, turn):\n",
    "    \n",
    "    w1 = w2 = 0\n",
    "    \n",
    "    for score in range(3, 10):\n",
    "        if turn == 1:\n",
    "            p1, s1 = pos1, score1\n",
    "            \n",
    "            p1 = move_pos(p1, score)\n",
    "            s1 += p1\n",
    "            \n",
    "            if s1 < 21:\n",
    "                other_universe_wins1, other_universe_wins2 = count_winning_universes(p1, pos2, s1, score2, 2)\n",
    "                w1 += other_universe_wins1 * die_rolls[score]\n",
    "                w2 += other_universe_wins2 * die_rolls[score]\n",
    "            else:\n",
    "                w1 += die_rolls[score]\n",
    "        elif turn == 2:\n",
    "            p2, s2 = pos2, score2\n",
    "            \n",
    "            p2 = move_pos(p2, score)\n",
    "            s2 += p2\n",
    "            \n",
    "            if s2 < 21:\n",
    "                other_universe_wins1, other_universe_wins2 = count_winning_universes(pos1, p2, score1, s2, 1)\n",
    "                w1 += other_universe_wins1 * die_rolls[score]\n",
    "                w2 += other_universe_wins2 * die_rolls[score]\n",
    "            else:\n",
    "                w2 += die_rolls[score]\n",
    "                \n",
    "    return w1, w2"
   ]
  },
  {
   "cell_type": "code",
   "execution_count": 58,
   "id": "79c73358",
   "metadata": {},
   "outputs": [
    {
     "name": "stdout",
     "output_type": "stream",
     "text": [
      "Player 1 wins in a total of 113467910521040 universes\n",
      "Player 2 wins in a total of 116741133558209 universes\n"
     ]
    }
   ],
   "source": [
    "p1, p2 = preprocess_input(read_file())\n",
    "w1, w2 = count_winning_universes(p1, p2, 0, 0, 1)\n",
    "print(f\"Player 1 wins in a total of {w1} universes\")\n",
    "print(f\"Player 2 wins in a total of {w2} universes\")"
   ]
  }
 ],
 "metadata": {
  "kernelspec": {
   "display_name": "Python 3 (ipykernel)",
   "language": "python",
   "name": "python3"
  },
  "language_info": {
   "codemirror_mode": {
    "name": "ipython",
    "version": 3
   },
   "file_extension": ".py",
   "mimetype": "text/x-python",
   "name": "python",
   "nbconvert_exporter": "python",
   "pygments_lexer": "ipython3",
   "version": "3.8.10"
  }
 },
 "nbformat": 4,
 "nbformat_minor": 5
}
