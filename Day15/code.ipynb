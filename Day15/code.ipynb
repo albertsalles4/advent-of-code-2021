{
 "cells": [
  {
   "cell_type": "markdown",
   "id": "4b80d2ed",
   "metadata": {},
   "source": [
    "## Day 15"
   ]
  },
  {
   "cell_type": "raw",
   "id": "ab5d0447",
   "metadata": {},
   "source": [
    "--- Day 15: Chiton ---\n",
    "You've almost reached the exit of the cave, but the walls are getting closer together. Your submarine can barely still fit, though; the main problem is that the walls of the cave are covered in chitons, and it would be best not to bump any of them.\n",
    "\n",
    "The cavern is large, but has a very low ceiling, restricting your motion to two dimensions. The shape of the cavern resembles a square; a quick scan of chiton density produces a map of risk level throughout the cave (your puzzle input). For example:\n",
    "\n",
    "1163751742\n",
    "1381373672\n",
    "2136511328\n",
    "3694931569\n",
    "7463417111\n",
    "1319128137\n",
    "1359912421\n",
    "3125421639\n",
    "1293138521\n",
    "2311944581\n",
    "You start in the top left position, your destination is the bottom right position, and you cannot move diagonally. The number at each position is its risk level; to determine the total risk of an entire path, add up the risk levels of each position you enter (that is, don't count the risk level of your starting position unless you enter it; leaving it adds no risk to your total).\n",
    "\n",
    "Your goal is to find a path with the lowest total risk. In this example, a path with the lowest total risk is highlighted here:\n",
    "\n",
    "1163751742\n",
    "1381373672\n",
    "2136511328\n",
    "3694931569\n",
    "7463417111\n",
    "1319128137\n",
    "1359912421\n",
    "3125421639\n",
    "1293138521\n",
    "2311944581\n",
    "The total risk of this path is 40 (the starting position is never entered, so its risk is not counted).\n",
    "\n",
    "What is the lowest total risk of any path from the top left to the bottom right?"
   ]
  },
  {
   "cell_type": "code",
   "execution_count": 1,
   "id": "58d5a80f",
   "metadata": {},
   "outputs": [],
   "source": [
    "import os\n",
    "import numpy as np\n",
    "\n",
    "def read_file(filename=\"input.txt\", path=os.path.join(os.getcwd())):\n",
    "    with open(os.path.join(path, filename), \"r\") as f:\n",
    "        input_list = [line.strip() for line in f]\n",
    "    return input_list"
   ]
  },
  {
   "cell_type": "code",
   "execution_count": 2,
   "id": "7a4cbdf4",
   "metadata": {},
   "outputs": [],
   "source": [
    "example = [\n",
    "    \"1163751742\",\n",
    "    \"1381373672\",\n",
    "    \"2136511328\",\n",
    "    \"3694931569\",\n",
    "    \"7463417111\",\n",
    "    \"1319128137\",\n",
    "    \"1359912421\",\n",
    "    \"3125421639\",\n",
    "    \"1293138521\",\n",
    "    \"2311944581\",\n",
    "]"
   ]
  },
  {
   "cell_type": "code",
   "execution_count": 14,
   "id": "42d03b55",
   "metadata": {},
   "outputs": [],
   "source": [
    "def preprocess_input(input_list):\n",
    "    return np.array([[int(n) for n in line] for line in input_list])\n",
    "\n",
    "def find_and_prune(grid, position, current_score, lowest_score):\n",
    "    \n",
    "    x = position[0]\n",
    "    y = position[1]\n",
    "    \n",
    "    if x == grid.shape[0]-1 and y == grid.shape[1]-1:\n",
    "        lowest_score = current_score\n",
    "        return lowest_score\n",
    "    \n",
    "    if x < grid.shape[0]-1 and current_score + grid[x+1, y] < lowest_score:\n",
    "        lowest_score = find_and_prune(grid, (x+1, y), current_score + grid[x+1, y], lowest_score)\n",
    "        \n",
    "    if y < grid.shape[1]-1 and current_score + grid[x, y+1] < lowest_score:\n",
    "        lowest_score = find_and_prune(grid, (x, y+1), current_score + grid[x, y+1], lowest_score)\n",
    "        \n",
    "    return lowest_score\n",
    "\n",
    "def a_star_search(grid, start, goal):\n",
    "    from heapq import heapify, heappush, heappop\n",
    "    \n",
    "    open_heap = []\n",
    "    heapify(open_heap)\n",
    "    \n",
    "    came_from = {}\n",
    "    \n",
    "    heappush(open_heap, (0, start))\n",
    "    \n",
    "    # Initiliaze all values to inf\n",
    "    gscore = np.ones(grid.shape)*math.inf\n",
    "    # We initialize the starting node's value with 0   \n",
    "    gscore[start[0], start[1]] = 0\n",
    "    \n",
    "    \n",
    "    while open_heap:\n",
    "        f_score, current = heappop(open_heap)\n",
    "        if current == goal:\n",
    "            return reconstruct_path(came_from, current)\n",
    "        \n",
    "        x, y = current\n",
    "        for dx, dy in [(1,0), (0,1), (-1, 0), (0, -1)]:\n",
    "            if 0 <= x+dx < grid.shape[0] and 0 <= y+dy < grid.shape[1]:\n",
    "                tentative_gscore = gscore[x, y] + grid[x+dx, y+dy]\n",
    "                if tentative_gscore < gscore[x+dx, y+dy]:\n",
    "                    came_from[(x+dx, y+dy)] = current\n",
    "                    gscore[x+dx, y+dy] = tentative_gscore\n",
    "                    heappush(open_heap, (tentative_gscore + grid[x+dx, y+dy], (x+dx, y+dy)))\n",
    "    return -1\n",
    "\n",
    "def reconstruct_path(came_from, current):\n",
    "    total_path = [current]\n",
    "    while current in came_from.keys():\n",
    "        current = came_from[current]\n",
    "        total_path = [current] + total_path\n",
    "    return total_path"
   ]
  },
  {
   "cell_type": "code",
   "execution_count": 18,
   "id": "4d52579b",
   "metadata": {},
   "outputs": [
    {
     "name": "stdout",
     "output_type": "stream",
     "text": [
      "Lowest total risk of any path from top left to bottom right is 441\n"
     ]
    }
   ],
   "source": [
    "grid = preprocess_input(read_file())\n",
    "\n",
    "lowest_path = a_star_search(grid, (0,0), (grid.shape[0]-1, grid.shape[1]-1))\n",
    "\n",
    "score = -grid[0,0]\n",
    "\n",
    "for x, y in lowest_path:\n",
    "    score += grid[x, y]\n",
    "    \n",
    "print(f\"Lowest total risk of any path from top left to bottom right is {score}\")"
   ]
  },
  {
   "cell_type": "code",
   "execution_count": 74,
   "id": "2d6172a4",
   "metadata": {},
   "outputs": [],
   "source": [
    "def new_grid(grid):\n",
    "    new_grid = np.copy(grid)\n",
    "    left_grid = np.copy(grid)\n",
    "    for _ in range(4):\n",
    "        left_grid = (left_grid+1)%10\n",
    "        left_grid[left_grid==0] = 1\n",
    "        new_grid = np.concatenate((new_grid, left_grid), axis=-1)\n",
    "        \n",
    "    upper_grid = np.copy(new_grid)\n",
    "    for _ in range(4):\n",
    "        upper_grid = (upper_grid+1)%10\n",
    "        upper_grid[upper_grid==0]=1\n",
    "        new_grid = np.concatenate(((new_grid), upper_grid), axis=0)\n",
    "    return new_grid"
   ]
  },
  {
   "cell_type": "code",
   "execution_count": 76,
   "id": "e5eb5a01",
   "metadata": {},
   "outputs": [
    {
     "name": "stdout",
     "output_type": "stream",
     "text": [
      "Lowest total risk of any path from top left to bottom right is 2849\n"
     ]
    }
   ],
   "source": [
    "grid = preprocess_input(read_file())\n",
    "\n",
    "grid = new_grid(grid)\n",
    "\n",
    "lowest_path = a_star_search(grid, (0,0), (grid.shape[0]-1, grid.shape[1]-1))\n",
    "\n",
    "score = -grid[0,0]\n",
    "\n",
    "for x, y in lowest_path:\n",
    "    score += grid[x, y]\n",
    "    \n",
    "print(f\"Lowest total risk of any path from top left to bottom right is {score}\")"
   ]
  }
 ],
 "metadata": {
  "kernelspec": {
   "display_name": "Python 3 (ipykernel)",
   "language": "python",
   "name": "python3"
  },
  "language_info": {
   "codemirror_mode": {
    "name": "ipython",
    "version": 3
   },
   "file_extension": ".py",
   "mimetype": "text/x-python",
   "name": "python",
   "nbconvert_exporter": "python",
   "pygments_lexer": "ipython3",
   "version": "3.8.10"
  }
 },
 "nbformat": 4,
 "nbformat_minor": 5
}
