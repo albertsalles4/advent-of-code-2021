{
 "cells": [
  {
   "cell_type": "markdown",
   "id": "4b80d2ed",
   "metadata": {},
   "source": [
    "## Day 12"
   ]
  },
  {
   "cell_type": "raw",
   "id": "ab5d0447",
   "metadata": {},
   "source": [
    "--- Day 12: Passage Pathing ---\n",
    "With your submarine's subterranean subsystems subsisting suboptimally, the only way you're getting out of this cave anytime soon is by finding a path yourself. Not just a path - the only way to know if you've found the best path is to find all of them.\n",
    "\n",
    "Fortunately, the sensors are still mostly working, and so you build a rough map of the remaining caves (your puzzle input). For example:\n",
    "\n",
    "start-A\n",
    "start-b\n",
    "A-c\n",
    "A-b\n",
    "b-d\n",
    "A-end\n",
    "b-end\n",
    "This is a list of how all of the caves are connected. You start in the cave named start, and your destination is the cave named end. An entry like b-d means that cave b is connected to cave d - that is, you can move between them.\n",
    "\n",
    "So, the above cave system looks roughly like this:\n",
    "\n",
    "    start\n",
    "    /   \\\n",
    "c--A-----b--d\n",
    "    \\   /\n",
    "     end\n",
    "Your goal is to find the number of distinct paths that start at start, end at end, and don't visit small caves more than once. There are two types of caves: big caves (written in uppercase, like A) and small caves (written in lowercase, like b). It would be a waste of time to visit any small cave more than once, but big caves are large enough that it might be worth visiting them multiple times. So, all paths you find should visit small caves at most once, and can visit big caves any number of times.\n",
    "\n",
    "Given these rules, there are 10 paths through this example cave system:\n",
    "\n",
    "start,A,b,A,c,A,end\n",
    "start,A,b,A,end\n",
    "start,A,b,end\n",
    "start,A,c,A,b,A,end\n",
    "start,A,c,A,b,end\n",
    "start,A,c,A,end\n",
    "start,A,end\n",
    "start,b,A,c,A,end\n",
    "start,b,A,end\n",
    "start,b,end\n",
    "(Each line in the above list corresponds to a single path; the caves visited by that path are listed in the order they are visited and separated by commas.)\n",
    "\n",
    "Note that in this cave system, cave d is never visited by any path: to do so, cave b would need to be visited twice (once on the way to cave d and a second time when returning from cave d), and since cave b is small, this is not allowed.\n",
    "\n",
    "Here is a slightly larger example:\n",
    "\n",
    "dc-end\n",
    "HN-start\n",
    "start-kj\n",
    "dc-start\n",
    "dc-HN\n",
    "LN-dc\n",
    "HN-end\n",
    "kj-sa\n",
    "kj-HN\n",
    "kj-dc\n",
    "The 19 paths through it are as follows:\n",
    "\n",
    "start,HN,dc,HN,end\n",
    "start,HN,dc,HN,kj,HN,end\n",
    "start,HN,dc,end\n",
    "start,HN,dc,kj,HN,end\n",
    "start,HN,end\n",
    "start,HN,kj,HN,dc,HN,end\n",
    "start,HN,kj,HN,dc,end\n",
    "start,HN,kj,HN,end\n",
    "start,HN,kj,dc,HN,end\n",
    "start,HN,kj,dc,end\n",
    "start,dc,HN,end\n",
    "start,dc,HN,kj,HN,end\n",
    "start,dc,end\n",
    "start,dc,kj,HN,end\n",
    "start,kj,HN,dc,HN,end\n",
    "start,kj,HN,dc,end\n",
    "start,kj,HN,end\n",
    "start,kj,dc,HN,end\n",
    "start,kj,dc,end\n",
    "Finally, this even larger example has 226 paths through it:\n",
    "\n",
    "fs-end\n",
    "he-DX\n",
    "fs-he\n",
    "start-DX\n",
    "pj-DX\n",
    "end-zg\n",
    "zg-sl\n",
    "zg-pj\n",
    "pj-he\n",
    "RW-he\n",
    "fs-DX\n",
    "pj-RW\n",
    "zg-RW\n",
    "start-pj\n",
    "he-WI\n",
    "zg-he\n",
    "pj-fs\n",
    "start-RW\n",
    "How many paths through this cave system are there that visit small caves at most once?"
   ]
  },
  {
   "cell_type": "code",
   "execution_count": 20,
   "id": "58d5a80f",
   "metadata": {},
   "outputs": [],
   "source": [
    "import os\n",
    "import numpy as np\n",
    "\n",
    "def read_file(filename=\"input.txt\", path=os.path.join(os.getcwd())):\n",
    "    with open(os.path.join(path, filename), \"r\") as f:\n",
    "        input_list = [line.strip() for line in f]\n",
    "    return input_list"
   ]
  },
  {
   "cell_type": "code",
   "execution_count": 21,
   "id": "7a4cbdf4",
   "metadata": {},
   "outputs": [],
   "source": [
    "example = [\n",
    "    \"start-A\",\n",
    "    \"start-b\",\n",
    "    \"A-c\",\n",
    "    \"A-b\",\n",
    "    \"b-d\",\n",
    "    \"A-end\",\n",
    "    \"b-end\",\n",
    "]"
   ]
  },
  {
   "cell_type": "code",
   "execution_count": 22,
   "id": "f6a2f5fa",
   "metadata": {},
   "outputs": [],
   "source": [
    "def preprocess_input(input_list):\n",
    "    d_paths = {}\n",
    "    \n",
    "    for line in input_list:\n",
    "        p1, p2 = line.split('-')\n",
    "        if p1 in d_paths:\n",
    "            d_paths[p1].append(p2)\n",
    "        else:\n",
    "            d_paths[p1] = [p2]\n",
    "        if p2 in d_paths:\n",
    "            d_paths[p2].append(p1)\n",
    "        else:\n",
    "            d_paths[p2] = [p1]\n",
    "    return d_paths\n",
    "\n",
    "def find_all_paths(d_paths, path):\n",
    "    current_pos = path[-1]\n",
    "    if current_pos == \"end\":\n",
    "        return [path]\n",
    "    \n",
    "    next_pos = [pos for pos in d_paths[current_pos] if (pos != 'start') and not (pos.islower() and pos in path)]\n",
    "    \n",
    "    all_paths = []\n",
    "    for pos in next_pos:\n",
    "        new_path = path + [pos]\n",
    "        all_new_paths = find_all_paths(d_paths, new_path)\n",
    "        \n",
    "        all_paths += all_new_paths\n",
    "        \n",
    "    return all_paths"
   ]
  },
  {
   "cell_type": "code",
   "execution_count": 23,
   "id": "67d147ee",
   "metadata": {},
   "outputs": [
    {
     "name": "stdout",
     "output_type": "stream",
     "text": [
      "Number of paths through this cave system that visit small caves at most once is 3738\n"
     ]
    }
   ],
   "source": [
    "d_paths = preprocess_input(read_file())\n",
    "\n",
    "all_paths = find_all_paths(d_paths, ['start'])\n",
    "\n",
    "print(f\"Number of paths through this cave system that visit small caves at most once is {len(all_paths)}\")"
   ]
  },
  {
   "cell_type": "code",
   "execution_count": 48,
   "id": "15080e05",
   "metadata": {},
   "outputs": [],
   "source": [
    "def is_there_mini_repetition(path):\n",
    "    path = np.array(path)\n",
    "    for pos in path:\n",
    "        if pos.islower() and np.count_nonzero(path==pos)>1:\n",
    "            return True\n",
    "    return False\n",
    "\n",
    "def find_all_paths2(d_paths, path):\n",
    "    current_pos = path[-1]\n",
    "    if current_pos == \"end\":\n",
    "        return [path]\n",
    "    \n",
    "    is_mini_repetition = is_there_mini_repetition(path)\n",
    "    if is_mini_repetition:\n",
    "        next_pos = [pos for pos in d_paths[current_pos] if (pos != 'start') and not (pos.islower() and pos in path)]\n",
    "    else:\n",
    "        next_pos = [pos for pos in d_paths[current_pos] if (pos != 'start')]\n",
    "    \n",
    "    all_paths = []\n",
    "    for pos in next_pos:\n",
    "        new_path = path + [pos]\n",
    "        all_new_paths = find_all_paths2(d_paths, new_path)\n",
    "        \n",
    "        all_paths += all_new_paths\n",
    "        \n",
    "    return all_paths"
   ]
  },
  {
   "cell_type": "code",
   "execution_count": 51,
   "id": "c4b40c3b",
   "metadata": {},
   "outputs": [
    {
     "name": "stdout",
     "output_type": "stream",
     "text": [
      "Number of paths through this cave system that visit small caves once at most twice is 120506\n"
     ]
    }
   ],
   "source": [
    "d_paths = preprocess_input(read_file())\n",
    "\n",
    "all_paths = find_all_paths2(d_paths, ['start'])\n",
    "\n",
    "print(f\"Number of paths through this cave system that visit small caves once at most twice is {len(all_paths)}\")"
   ]
  }
 ],
 "metadata": {
  "kernelspec": {
   "display_name": "Python 3 (ipykernel)",
   "language": "python",
   "name": "python3"
  },
  "language_info": {
   "codemirror_mode": {
    "name": "ipython",
    "version": 3
   },
   "file_extension": ".py",
   "mimetype": "text/x-python",
   "name": "python",
   "nbconvert_exporter": "python",
   "pygments_lexer": "ipython3",
   "version": "3.8.10"
  }
 },
 "nbformat": 4,
 "nbformat_minor": 5
}
