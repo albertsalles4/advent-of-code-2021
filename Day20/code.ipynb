{
 "cells": [
  {
   "cell_type": "markdown",
   "id": "4b80d2ed",
   "metadata": {},
   "source": [
    "## Day 20"
   ]
  },
  {
   "cell_type": "raw",
   "id": "ab5d0447",
   "metadata": {},
   "source": [
    "--- Day 20: Trench Map ---\n",
    "With the scanners fully deployed, you turn their attention to mapping the floor of the ocean trench.\n",
    "\n",
    "When you get back the image from the scanners, it seems to just be random noise. Perhaps you can combine an image enhancement algorithm and the input image (your puzzle input) to clean it up a little.\n",
    "\n",
    "For example:\n",
    "\n",
    "..#.#..#####.#.#.#.###.##.....###.##.#..###.####..#####..#....#..#..##..##\n",
    "#..######.###...####..#..#####..##..#.#####...##.#.#..#.##..#.#......#.###\n",
    ".######.###.####...#.##.##..#..#..#####.....#.#....###..#.##......#.....#.\n",
    ".#..#..##..#...##.######.####.####.#.#...#.......#..#.#.#...####.##.#.....\n",
    ".#..#...##.#.##..#...##.#.##..###.#......#.#.......#.#.#.####.###.##...#..\n",
    "...####.#..#..#.##.#....##..#.####....##...##..#...#......#.#.......#.....\n",
    "..##..####..#...#.#.#...##..#.#..###..#####........#..####......#..#\n",
    "\n",
    "#..#.\n",
    "#....\n",
    "##..#\n",
    "..#..\n",
    "..###\n",
    "The first section is the image enhancement algorithm. It is normally given on a single line, but it has been wrapped to multiple lines in this example for legibility. The second section is the input image, a two-dimensional grid of light pixels (#) and dark pixels (.).\n",
    "\n",
    "The image enhancement algorithm describes how to enhance an image by simultaneously converting all pixels in the input image into an output image. Each pixel of the output image is determined by looking at a 3x3 square of pixels centered on the corresponding input image pixel. So, to determine the value of the pixel at (5,10) in the output image, nine pixels from the input image need to be considered: (4,9), (4,10), (4,11), (5,9), (5,10), (5,11), (6,9), (6,10), and (6,11). These nine input pixels are combined into a single binary number that is used as an index in the image enhancement algorithm string.\n",
    "\n",
    "For example, to determine the output pixel that corresponds to the very middle pixel of the input image, the nine pixels marked by [...] would need to be considered:\n",
    "\n",
    "# . . # .\n",
    "#[. . .].\n",
    "#[# . .]#\n",
    ".[. # .].\n",
    ". . # # #\n",
    "Starting from the top-left and reading across each row, these pixels are ..., then #.., then .#.; combining these forms ...#...#.. By turning dark pixels (.) into 0 and light pixels (#) into 1, the binary number 000100010 can be formed, which is 34 in decimal.\n",
    "\n",
    "The image enhancement algorithm string is exactly 512 characters long, enough to match every possible 9-bit binary number. The first few characters of the string (numbered starting from zero) are as follows:\n",
    "\n",
    "0         10        20        30  34    40        50        60        70\n",
    "|         |         |         |   |     |         |         |         |\n",
    "..#.#..#####.#.#.#.###.##.....###.##.#..###.####..#####..#....#..#..##..##\n",
    "In the middle of this first group of characters, the character at index 34 can be found: #. So, the output pixel in the center of the output image should be #, a light pixel.\n",
    "\n",
    "This process can then be repeated to calculate every pixel of the output image.\n",
    "\n",
    "Through advances in imaging technology, the images being operated on here are infinite in size. Every pixel of the infinite output image needs to be calculated exactly based on the relevant pixels of the input image. The small input image you have is only a small region of the actual infinite input image; the rest of the input image consists of dark pixels (.). For the purposes of the example, to save on space, only a portion of the infinite-sized input and output images will be shown.\n",
    "\n",
    "The starting input image, therefore, looks something like this, with more dark pixels (.) extending forever in every direction not shown here:\n",
    "\n",
    "...............\n",
    "...............\n",
    "...............\n",
    "...............\n",
    "...............\n",
    ".....#..#......\n",
    ".....#.........\n",
    ".....##..#.....\n",
    ".......#.......\n",
    ".......###.....\n",
    "...............\n",
    "...............\n",
    "...............\n",
    "...............\n",
    "...............\n",
    "By applying the image enhancement algorithm to every pixel simultaneously, the following output image can be obtained:\n",
    "\n",
    "...............\n",
    "...............\n",
    "...............\n",
    "...............\n",
    ".....##.##.....\n",
    "....#..#.#.....\n",
    "....##.#..#....\n",
    "....####..#....\n",
    ".....#..##.....\n",
    "......##..#....\n",
    ".......#.#.....\n",
    "...............\n",
    "...............\n",
    "...............\n",
    "...............\n",
    "Through further advances in imaging technology, the above output image can also be used as an input image! This allows it to be enhanced a second time:\n",
    "\n",
    "...............\n",
    "...............\n",
    "...............\n",
    "..........#....\n",
    "....#..#.#.....\n",
    "...#.#...###...\n",
    "...#...##.#....\n",
    "...#.....#.#...\n",
    "....#.#####....\n",
    ".....#.#####...\n",
    "......##.##....\n",
    ".......###.....\n",
    "...............\n",
    "...............\n",
    "...............\n",
    "Truly incredible - now the small details are really starting to come through. After enhancing the original input image twice, 35 pixels are lit.\n",
    "\n",
    "Start with the original input image and apply the image enhancement algorithm twice, being careful to account for the infinite size of the images. How many pixels are lit in the resulting image?"
   ]
  },
  {
   "cell_type": "code",
   "execution_count": 1,
   "id": "58d5a80f",
   "metadata": {},
   "outputs": [],
   "source": [
    "import os\n",
    "import numpy as np\n",
    "\n",
    "def read_file(filename=\"input.txt\", path=os.path.join(os.getcwd())):\n",
    "    with open(os.path.join(path, filename), \"r\") as f:\n",
    "        input_list = [line.strip() for line in f]\n",
    "    return input_list"
   ]
  },
  {
   "cell_type": "code",
   "execution_count": 78,
   "id": "59e546ef",
   "metadata": {},
   "outputs": [],
   "source": [
    "def preprocess_input(input_list):\n",
    "    return (\n",
    "        np.array([translate(char) for char in input_list[0]]),\n",
    "        np.array([[translate(char) for char in line] for line in input_list[2:]])\n",
    "    )\n",
    "\n",
    "def translate(char):\n",
    "    if char == '#':\n",
    "        return 1\n",
    "    return 0\n",
    "\n",
    "def enhance_image(x, enhancement_algorithm):\n",
    "    return enhancement_algorithm[x]\n",
    "\n",
    "\n",
    "from scipy.ndimage import convolve\n",
    "def simulate(image, enhancement_algorithm, inf_val):\n",
    "    weights = [[1, 2, 2**2], [2**3, 2**4, 2**5], [2**6, 2**7, 2**8]]\n",
    "    new_img = convolve(np.pad(image, 2, constant_values=(inf_val)), weights, mode='constant', cval=inf_val)\n",
    "    return enhance_image(new_img, enhancement_algorithm)\n",
    "    "
   ]
  },
  {
   "cell_type": "code",
   "execution_count": 79,
   "id": "1d99ab35",
   "metadata": {},
   "outputs": [],
   "source": [
    "example = [\n",
    "    \"..#.#..#####.#.#.#.###.##.....###.##.#..###.####..#####..#....#..#..##..###..######.###...####..#..#####..##..#.#####...##.#.#..#.##..#.#......#.###.######.###.####...#.##.##..#..#..#####.....#.#....###..#.##......#.....#..#..#..##..#...##.######.####.####.#.#...#.......#..#.#.#...####.##.#......#..#...##.#.##..#...##.#.##..###.#......#.#.......#.#.#.####.###.##...#.....####.#..#..#.##.#....##..#.####....##...##..#...#......#.#.......#.......##..####..#...#.#.#...##..#.#..###..#####........#..####......#..#\",\n",
    "    \"\",\n",
    "    \"#..#.\",\n",
    "    \"#....\",\n",
    "    \"##..#\",\n",
    "    \"..#..\",\n",
    "    \"..###\",\n",
    "]"
   ]
  },
  {
   "cell_type": "code",
   "execution_count": 80,
   "id": "f7504ef4",
   "metadata": {},
   "outputs": [
    {
     "name": "stdout",
     "output_type": "stream",
     "text": [
      "There are 5339 pixels lit\n"
     ]
    }
   ],
   "source": [
    "enhancement_algorithm, image = preprocess_input(read_file())\n",
    "\n",
    "steps = 2\n",
    "for step in range(steps):\n",
    "    if enhancement_algorithm[0] == 0:\n",
    "        inf_val = 0\n",
    "    else:\n",
    "        if step%2:\n",
    "            inf_val = enhancement_algorithm[0]\n",
    "        else:\n",
    "            inf_val = enhancement_algorithm[-1]\n",
    "            \n",
    "    image = simulate(image, enhancement_algorithm, inf_val)\n",
    "    \n",
    "print(f\"There are {np.count_nonzero(image)} pixels lit\")"
   ]
  },
  {
   "cell_type": "raw",
   "id": "b888dfde",
   "metadata": {},
   "source": [
    "You still can't quite make out the details in the image. Maybe you just didn't enhance it enough.\n",
    "\n",
    "If you enhance the starting input image in the above example a total of 50 times, 3351 pixels are lit in the final output image.\n",
    "\n",
    "Start again with the original input image and apply the image enhancement algorithm 50 times. How many pixels are lit in the resulting image?"
   ]
  },
  {
   "cell_type": "code",
   "execution_count": 81,
   "id": "19be8025",
   "metadata": {},
   "outputs": [
    {
     "name": "stdout",
     "output_type": "stream",
     "text": [
      "There are 18395 pixels lit\n"
     ]
    }
   ],
   "source": [
    "enhancement_algorithm, image = preprocess_input(read_file())\n",
    "\n",
    "steps = 50\n",
    "for step in range(steps):\n",
    "    if enhancement_algorithm[0] == 0:\n",
    "        inf_val = 0\n",
    "    else:\n",
    "        if step%2:\n",
    "            inf_val = enhancement_algorithm[0]\n",
    "        else:\n",
    "            inf_val = enhancement_algorithm[-1]\n",
    "            \n",
    "    image = simulate(image, enhancement_algorithm, inf_val)\n",
    "    \n",
    "print(f\"There are {np.count_nonzero(image)} pixels lit\")"
   ]
  }
 ],
 "metadata": {
  "kernelspec": {
   "display_name": "Python 3 (ipykernel)",
   "language": "python",
   "name": "python3"
  },
  "language_info": {
   "codemirror_mode": {
    "name": "ipython",
    "version": 3
   },
   "file_extension": ".py",
   "mimetype": "text/x-python",
   "name": "python",
   "nbconvert_exporter": "python",
   "pygments_lexer": "ipython3",
   "version": "3.8.10"
  }
 },
 "nbformat": 4,
 "nbformat_minor": 5
}
