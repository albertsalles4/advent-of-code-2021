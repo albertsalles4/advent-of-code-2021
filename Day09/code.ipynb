{
 "cells": [
  {
   "cell_type": "markdown",
   "id": "4d335db4",
   "metadata": {},
   "source": [
    "## Day 9"
   ]
  },
  {
   "cell_type": "raw",
   "id": "349d2f4a",
   "metadata": {},
   "source": [
    "--- Day 9: Smoke Basin ---\n",
    "These caves seem to be lava tubes. Parts are even still volcanically active; small hydrothermal vents release smoke into the caves that slowly settles like rain.\n",
    "\n",
    "If you can model how the smoke flows through the caves, you might be able to avoid it and be that much safer. The submarine generates a heightmap of the floor of the nearby caves for you (your puzzle input).\n",
    "\n",
    "Smoke flows to the lowest point of the area it's in. For example, consider the following heightmap:\n",
    "\n",
    "2199943210\n",
    "3987894921\n",
    "9856789892\n",
    "8767896789\n",
    "9899965678\n",
    "Each number corresponds to the height of a particular location, where 9 is the highest and 0 is the lowest a location can be.\n",
    "\n",
    "Your first goal is to find the low points - the locations that are lower than any of its adjacent locations. Most locations have four adjacent locations (up, down, left, and right); locations on the edge or corner of the map have three or two adjacent locations, respectively. (Diagonal locations do not count as adjacent.)\n",
    "\n",
    "In the above example, there are four low points, all highlighted: two are in the first row (a 1 and a 0), one is in the third row (a 5), and one is in the bottom row (also a 5). All other locations on the heightmap have some lower adjacent location, and so are not low points.\n",
    "\n",
    "The risk level of a low point is 1 plus its height. In the above example, the risk levels of the low points are 2, 1, 6, and 6. The sum of the risk levels of all low points in the heightmap is therefore 15.\n",
    "\n",
    "Find all of the low points on your heightmap. What is the sum of the risk levels of all low points on your heightmap?"
   ]
  },
  {
   "cell_type": "code",
   "execution_count": 1,
   "id": "fbb8fae0",
   "metadata": {},
   "outputs": [],
   "source": [
    "import os\n",
    "import numpy as np\n",
    "\n",
    "def read_file(filename=\"input.txt\", path=os.path.join(os.getcwd())):\n",
    "    with open(os.path.join(path, filename), \"r\") as f:\n",
    "        input_list = [line.strip() for line in f]\n",
    "    return input_list"
   ]
  },
  {
   "cell_type": "code",
   "execution_count": 2,
   "id": "379dca12",
   "metadata": {},
   "outputs": [],
   "source": [
    "example = [\n",
    "    \"2199943210\",\n",
    "    \"3987894921\",\n",
    "    \"9856789892\",\n",
    "    \"8767896789\",\n",
    "    \"9899965678\",\n",
    "]"
   ]
  },
  {
   "cell_type": "code",
   "execution_count": 14,
   "id": "5f62a378",
   "metadata": {},
   "outputs": [],
   "source": [
    "def preprocess_input(input_list):\n",
    "    return np.array([[int(char) for char in line] for line in input_list])\n",
    "\n",
    "def is_minimum(heightmap, point):\n",
    "    x = point[0]\n",
    "    y = point[1]\n",
    "    \n",
    "    # Horizontal\n",
    "    if x < len(heightmap)-1 and heightmap[x, y] >= heightmap[x+1, y]:\n",
    "            return False\n",
    "    if x > 0 and heightmap[x, y] >= heightmap[x-1, y]:\n",
    "            return False\n",
    "    # Vertical\n",
    "    if y < len(heightmap[0])-1 and heightmap[x, y] >= heightmap[x, y+1]:\n",
    "            return False\n",
    "    if y > 0 and heightmap[x, y] >= heightmap[x, y-1]:\n",
    "            return False\n",
    "    \n",
    "    return True"
   ]
  },
  {
   "cell_type": "code",
   "execution_count": 18,
   "id": "fae8bb76",
   "metadata": {},
   "outputs": [
    {
     "name": "stdout",
     "output_type": "stream",
     "text": [
      "The sum of risk levels is 600\n"
     ]
    }
   ],
   "source": [
    "heightmap = preprocess_input(read_file())\n",
    "\n",
    "minimums = np.array([heightmap[x, y] for x in range(heightmap.shape[0]) \\\n",
    "            for y in range(heightmap.shape[1]) if is_minimum(heightmap, (x, y))])\n",
    "\n",
    "s = sum(minimums+1)\n",
    "\n",
    "print(f\"The sum of risk levels is {s}\")"
   ]
  },
  {
   "cell_type": "raw",
   "id": "4d8dd5f9",
   "metadata": {},
   "source": [
    "--- Part Two ---\n",
    "Next, you need to find the largest basins so you know what areas are most important to avoid.\n",
    "\n",
    "A basin is all locations that eventually flow downward to a single low point. Therefore, every low point has a basin, although some basins are very small. Locations of height 9 do not count as being in any basin, and all other locations will always be part of exactly one basin.\n",
    "\n",
    "The size of a basin is the number of locations within the basin, including the low point. The example above has four basins.\n",
    "\n",
    "The top-left basin, size 3:\n",
    "\n",
    "2199943210\n",
    "3987894921\n",
    "9856789892\n",
    "8767896789\n",
    "9899965678\n",
    "The top-right basin, size 9:\n",
    "\n",
    "2199943210\n",
    "3987894921\n",
    "9856789892\n",
    "8767896789\n",
    "9899965678\n",
    "The middle basin, size 14:\n",
    "\n",
    "2199943210\n",
    "3987894921\n",
    "9856789892\n",
    "8767896789\n",
    "9899965678\n",
    "The bottom-right basin, size 9:\n",
    "\n",
    "2199943210\n",
    "3987894921\n",
    "9856789892\n",
    "8767896789\n",
    "9899965678\n",
    "Find the three largest basins and multiply their sizes together. In the above example, this is 9 * 14 * 9 = 1134.\n",
    "\n",
    "What do you get if you multiply together the sizes of the three largest basins?"
   ]
  },
  {
   "cell_type": "code",
   "execution_count": 94,
   "id": "2232c8bb",
   "metadata": {},
   "outputs": [],
   "source": [
    "def find_basin(heightmap, point):\n",
    "    heightmap_visited = heightmap == -1 # Start at False\n",
    "    \n",
    "    return 1 + un_buen_dfs(heightmap, heightmap_visited, point)\n",
    "    \n",
    "def un_buen_dfs(heightmap, heightmap_visited, point):\n",
    "    \n",
    "    x = point[0]\n",
    "    y = point[1]\n",
    "    \n",
    "    if heightmap_visited[x, y]:\n",
    "        return -1\n",
    "    \n",
    "    heightmap_visited[x, y] = True\n",
    "    \n",
    "    down = x < len(heightmap)-1 and (not heightmap_visited[x+1,y]) \\\n",
    "        and heightmap[x, y] < heightmap[x+1,y] and heightmap[x+1,y] != 9\n",
    "    \n",
    "    up = x > 0 and (not heightmap_visited[x-1,y]) \\\n",
    "        and heightmap[x, y] < heightmap[x-1,y] and heightmap[x-1,y] != 9\n",
    "    \n",
    "    right = y < len(heightmap[0])-1 and (not heightmap_visited[x,y+1]) \\\n",
    "        and heightmap[x, y] < heightmap[x,y+1] and heightmap[x,y+1] != 9\n",
    "    \n",
    "    left = y > 0 and (not heightmap_visited[x,y-1]) \\\n",
    "        and heightmap[x, y] < heightmap[x,y-1] and heightmap[x,y-1] != 9\n",
    "    \n",
    "    \n",
    "    if (not up) and (not down) and (not right) and (not left):\n",
    "        return 0\n",
    "    \n",
    "    count = 0\n",
    "    if up:\n",
    "        count += 1 + un_buen_dfs(heightmap, heightmap_visited, (x-1, y))\n",
    "    \n",
    "    if down:\n",
    "        count += 1 + un_buen_dfs(heightmap, heightmap_visited, (x+1, y))\n",
    "    \n",
    "    if right:\n",
    "        count += 1 + un_buen_dfs(heightmap, heightmap_visited, (x, y+1))\n",
    "    \n",
    "    \n",
    "    if left:\n",
    "        count += 1 + un_buen_dfs(heightmap, heightmap_visited, (x, y-1))\n",
    "        \n",
    "    return count"
   ]
  },
  {
   "cell_type": "code",
   "execution_count": 100,
   "id": "e4d90e00",
   "metadata": {},
   "outputs": [
    {
     "name": "stdout",
     "output_type": "stream",
     "text": [
      "Three largest basin sizes multiplied together: 987840\n"
     ]
    }
   ],
   "source": [
    "heightmap = preprocess_input(read_file())\n",
    "\n",
    "minimums = np.array([(x, y) for x in range(heightmap.shape[0]) \\\n",
    "            for y in range(heightmap.shape[1]) if is_minimum(heightmap, (x, y))])\n",
    "\n",
    "sizes = sorted(find_basin(heightmap, point) for point in minimums)[::-1]\n",
    "print(f\"Three largest basin sizes multiplied together: {sizes[0]*sizes[1]*sizes[2]}\")"
   ]
  }
 ],
 "metadata": {
  "kernelspec": {
   "display_name": "Python 3 (ipykernel)",
   "language": "python",
   "name": "python3"
  },
  "language_info": {
   "codemirror_mode": {
    "name": "ipython",
    "version": 3
   },
   "file_extension": ".py",
   "mimetype": "text/x-python",
   "name": "python",
   "nbconvert_exporter": "python",
   "pygments_lexer": "ipython3",
   "version": "3.8.10"
  }
 },
 "nbformat": 4,
 "nbformat_minor": 5
}
