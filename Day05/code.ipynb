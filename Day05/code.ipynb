{
 "cells": [
  {
   "cell_type": "markdown",
   "id": "e5968f28",
   "metadata": {},
   "source": [
    "## Day 5"
   ]
  },
  {
   "cell_type": "raw",
   "id": "d027763b",
   "metadata": {},
   "source": [
    "--- Day 5: Hydrothermal Venture ---\n",
    "You come across a field of hydrothermal vents on the ocean floor! These vents constantly produce large, opaque clouds, so it would be best to avoid them if possible.\n",
    "\n",
    "They tend to form in lines; the submarine helpfully produces a list of nearby lines of vents (your puzzle input) for you to review. For example:\n",
    "\n",
    "0,9 -> 5,9\n",
    "8,0 -> 0,8\n",
    "9,4 -> 3,4\n",
    "2,2 -> 2,1\n",
    "7,0 -> 7,4\n",
    "6,4 -> 2,0\n",
    "0,9 -> 2,9\n",
    "3,4 -> 1,4\n",
    "0,0 -> 8,8\n",
    "5,5 -> 8,2\n",
    "Each line of vents is given as a line segment in the format x1,y1 -> x2,y2 where x1,y1 are the coordinates of one end the line segment and x2,y2 are the coordinates of the other end. These line segments include the points at both ends. In other words:\n",
    "\n",
    "An entry like 1,1 -> 1,3 covers points 1,1, 1,2, and 1,3.\n",
    "An entry like 9,7 -> 7,7 covers points 9,7, 8,7, and 7,7.\n",
    "For now, only consider horizontal and vertical lines: lines where either x1 = x2 or y1 = y2.\n",
    "\n",
    "So, the horizontal and vertical lines from the above list would produce the following diagram:\n",
    "\n",
    ".......1..\n",
    "..1....1..\n",
    "..1....1..\n",
    ".......1..\n",
    ".112111211\n",
    "..........\n",
    "..........\n",
    "..........\n",
    "..........\n",
    "222111....\n",
    "In this diagram, the top left corner is 0,0 and the bottom right corner is 9,9. Each position is shown as the number of lines which cover that point or . if no line covers that point. The top-left pair of 1s, for example, comes from 2,2 -> 2,1; the very bottom row is formed by the overlapping lines 0,9 -> 5,9 and 0,9 -> 2,9.\n",
    "\n",
    "To avoid the most dangerous areas, you need to determine the number of points where at least two lines overlap. In the above example, this is anywhere in the diagram with a 2 or larger - a total of 5 points.\n",
    "\n",
    "Consider only horizontal and vertical lines. At how many points do at least two lines overlap?"
   ]
  },
  {
   "cell_type": "code",
   "execution_count": 1,
   "id": "efcd6ade",
   "metadata": {},
   "outputs": [],
   "source": [
    "import os\n",
    "\n",
    "def read_file(filename=\"input.txt\", path=os.path.join(os.getcwd())):\n",
    "    with open(os.path.join(path, filename), \"r\") as f:\n",
    "        input_list = [line.strip() for line in f]\n",
    "    return input_list"
   ]
  },
  {
   "cell_type": "code",
   "execution_count": 25,
   "id": "a1b7ab76",
   "metadata": {},
   "outputs": [],
   "source": [
    "import numpy as np\n",
    "\n",
    "def preprocess_input(input_list):\n",
    "    list_p0 = []\n",
    "    list_p1 = []\n",
    "    for line in input_list:\n",
    "        p0, p1 = line.split(' -> ')\n",
    "        x0, y0 = p0.split(',')\n",
    "        x1, y1 = p1.split(',')\n",
    "        \n",
    "        list_p0.append((int(x0), int(y0)))\n",
    "        list_p1.append((int(x1), int(y1)))\n",
    "    return np.array(list_p0), np.array(list_p1)\n",
    "\n",
    "def is_horizontal(p0, p1):\n",
    "    return p0[1] == p1[1]\n",
    "\n",
    "def is_vertical(p0, p1):\n",
    "    return p0[0] == p1[0]\n",
    "\n",
    "def start_diagram(list_p0, list_p1):\n",
    "    max0 = max(max(list_p0[:, 0]), max(list_p1[:, 0]))\n",
    "    max1 = max(max(list_p0[:, 1]), max(list_p1[:, 1]))\n",
    "    \n",
    "    return np.zeros((max0+1, max1+1))"
   ]
  },
  {
   "cell_type": "code",
   "execution_count": 27,
   "id": "5310d453",
   "metadata": {},
   "outputs": [],
   "source": [
    "example = [\n",
    "    '0,9 -> 5,9',\n",
    "    '8,0 -> 0,8',\n",
    "    '9,4 -> 3,4',\n",
    "    '2,2 -> 2,1',\n",
    "    '7,0 -> 7,4',\n",
    "    '6,4 -> 2,0',\n",
    "    '0,9 -> 2,9',\n",
    "    '3,4 -> 1,4',\n",
    "    '0,0 -> 8,8',\n",
    "    '5,5 -> 8,2',\n",
    "]"
   ]
  },
  {
   "cell_type": "code",
   "execution_count": 35,
   "id": "1470e1f9",
   "metadata": {},
   "outputs": [
    {
     "name": "stdout",
     "output_type": "stream",
     "text": [
      "Number of points where at least two lines overlap 7473\n"
     ]
    }
   ],
   "source": [
    "list_p0, list_p1 = preprocess_input(read_file())\n",
    "\n",
    "diagram = start_diagram(list_p0, list_p1)\n",
    "\n",
    "for p0, p1 in zip(list_p0, list_p1):\n",
    "    \n",
    "    if is_horizontal(p0, p1):\n",
    "        if p0[0] <= p1[0]:\n",
    "            diagram[p0[0]:p1[0]+1, p0[1]] += 1\n",
    "        else:\n",
    "            diagram[p1[0]:p0[0]+1, p0[1]] += 1\n",
    "            \n",
    "\n",
    "    elif is_vertical(p0, p1):\n",
    "        if p0[1] <= p1[1]: \n",
    "            diagram[p0[0], p0[1]:p1[1]+1] += 1\n",
    "        else: \n",
    "            diagram[p0[0], p1[1]:p0[1]+1] += 1\n",
    "\n",
    "        \n",
    "overlap = np.count_nonzero(diagram >= 2)\n",
    "print(f\"Number of points where at least two lines overlap {overlap}\")"
   ]
  },
  {
   "cell_type": "raw",
   "id": "75b6593f",
   "metadata": {},
   "source": [
    "--- Part Two ---\n",
    "Unfortunately, considering only horizontal and vertical lines doesn't give you the full picture; you need to also consider diagonal lines.\n",
    "\n",
    "Because of the limits of the hydrothermal vent mapping system, the lines in your list will only ever be horizontal, vertical, or a diagonal line at exactly 45 degrees. In other words:\n",
    "\n",
    "An entry like 1,1 -> 3,3 covers points 1,1, 2,2, and 3,3.\n",
    "An entry like 9,7 -> 7,9 covers points 9,7, 8,8, and 7,9.\n",
    "Considering all lines from the above example would now produce the following diagram:\n",
    "\n",
    "1.1....11.\n",
    ".111...2..\n",
    "..2.1.111.\n",
    "...1.2.2..\n",
    ".112313211\n",
    "...1.2....\n",
    "..1...1...\n",
    ".1.....1..\n",
    "1.......1.\n",
    "222111....\n",
    "You still need to determine the number of points where at least two lines overlap. In the above example, this is still anywhere in the diagram with a 2 or larger - now a total of 12 points.\n",
    "\n",
    "Consider all of the lines. At how many points do at least two lines overlap?"
   ]
  },
  {
   "cell_type": "code",
   "execution_count": 36,
   "id": "a2d75802",
   "metadata": {},
   "outputs": [],
   "source": [
    "def is_diagonal_ascent(p0, p1):\n",
    "    \n",
    "    return float(p1[1]-p0[1])/float(p1[0]-p0[0]) == 1\n",
    "\n",
    "def is_diagonal_descent(p0, p1):\n",
    "    \n",
    "    return float(p1[1]-p0[1])/float(p1[0]-p0[0]) == -1"
   ]
  },
  {
   "cell_type": "code",
   "execution_count": 42,
   "id": "0c7997da",
   "metadata": {},
   "outputs": [
    {
     "name": "stdout",
     "output_type": "stream",
     "text": [
      "Number of points where at least two lines overlap 24164\n"
     ]
    }
   ],
   "source": [
    "list_p0, list_p1 = preprocess_input(read_file())\n",
    "\n",
    "diagram = start_diagram(list_p0, list_p1)\n",
    "\n",
    "for p0, p1 in zip(list_p0, list_p1):\n",
    "    \n",
    "    if is_horizontal(p0, p1):\n",
    "        if p0[0] <= p1[0]:\n",
    "            diagram[p0[0]:p1[0]+1, p0[1]] += 1\n",
    "        else:\n",
    "            diagram[p1[0]:p0[0]+1, p0[1]] += 1\n",
    "            \n",
    "\n",
    "    elif is_vertical(p0, p1):\n",
    "        if p0[1] <= p1[1]: \n",
    "            diagram[p0[0], p0[1]:p1[1]+1] += 1\n",
    "        else: \n",
    "            diagram[p0[0], p1[1]:p0[1]+1] += 1\n",
    "            \n",
    "    elif is_diagonal_ascent(p0, p1):\n",
    "        if p0[0] <= p1[0]:\n",
    "            for i in range(p1[0]-p0[0]+1):\n",
    "                diagram[p0[0]+i, p0[1]+i] += 1\n",
    "        else:\n",
    "            for i in range(p0[0]-p1[0]+1):\n",
    "                diagram[p1[0]+i, p1[1]+i] += 1\n",
    "                \n",
    "    elif is_diagonal_descent(p0, p1):\n",
    "        if p0[0] <= p1[0]:\n",
    "            for i in range(p1[0]-p0[0]+1):\n",
    "                diagram[p0[0]+i, p0[1]-i] += 1\n",
    "        else:\n",
    "            for i in range(p0[0]-p1[0]+1):\n",
    "                diagram[p1[0]+i, p1[1]-i] += 1\n",
    "\n",
    "        \n",
    "overlap = np.count_nonzero(diagram >= 2)\n",
    "print(f\"Number of points where at least two lines overlap {overlap}\")"
   ]
  }
 ],
 "metadata": {
  "kernelspec": {
   "display_name": "Python 3 (ipykernel)",
   "language": "python",
   "name": "python3"
  },
  "language_info": {
   "codemirror_mode": {
    "name": "ipython",
    "version": 3
   },
   "file_extension": ".py",
   "mimetype": "text/x-python",
   "name": "python",
   "nbconvert_exporter": "python",
   "pygments_lexer": "ipython3",
   "version": "3.8.10"
  }
 },
 "nbformat": 4,
 "nbformat_minor": 5
}
