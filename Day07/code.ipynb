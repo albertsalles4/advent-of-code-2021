{
 "cells": [
  {
   "cell_type": "markdown",
   "id": "f9cda8cb",
   "metadata": {},
   "source": [
    "## Day 7"
   ]
  },
  {
   "cell_type": "raw",
   "id": "c27bd5cf",
   "metadata": {},
   "source": [
    "--- Day 7: The Treachery of Whales ---\n",
    "A giant whale has decided your submarine is its next meal, and it's much faster than you are. There's nowhere to run!\n",
    "\n",
    "Suddenly, a swarm of crabs (each in its own tiny submarine - it's too deep for them otherwise) zooms in to rescue you! They seem to be preparing to blast a hole in the ocean floor; sensors indicate a massive underground cave system just beyond where they're aiming!\n",
    "\n",
    "The crab submarines all need to be aligned before they'll have enough power to blast a large enough hole for your submarine to get through. However, it doesn't look like they'll be aligned before the whale catches you! Maybe you can help?\n",
    "\n",
    "There's one major catch - crab submarines can only move horizontally.\n",
    "\n",
    "You quickly make a list of the horizontal position of each crab (your puzzle input). Crab submarines have limited fuel, so you need to find a way to make all of their horizontal positions match while requiring them to spend as little fuel as possible.\n",
    "\n",
    "For example, consider the following horizontal positions:\n",
    "\n",
    "16,1,2,0,4,2,7,1,2,14\n",
    "This means there's a crab with horizontal position 16, a crab with horizontal position 1, and so on.\n",
    "\n",
    "Each change of 1 step in horizontal position of a single crab costs 1 fuel. You could choose any horizontal position to align them all on, but the one that costs the least fuel is horizontal position 2:\n",
    "\n",
    "Move from 16 to 2: 14 fuel\n",
    "Move from 1 to 2: 1 fuel\n",
    "Move from 2 to 2: 0 fuel\n",
    "Move from 0 to 2: 2 fuel\n",
    "Move from 4 to 2: 2 fuel\n",
    "Move from 2 to 2: 0 fuel\n",
    "Move from 7 to 2: 5 fuel\n",
    "Move from 1 to 2: 1 fuel\n",
    "Move from 2 to 2: 0 fuel\n",
    "Move from 14 to 2: 12 fuel\n",
    "This costs a total of 37 fuel. This is the cheapest possible outcome; more expensive outcomes include aligning at position 1 (41 fuel), position 3 (39 fuel), or position 10 (71 fuel).\n",
    "\n",
    "Determine the horizontal position that the crabs can align to using the least fuel possible. How much fuel must they spend to align to that position?"
   ]
  },
  {
   "cell_type": "code",
   "execution_count": 2,
   "id": "3032f3f0",
   "metadata": {},
   "outputs": [],
   "source": [
    "import os\n",
    "import numpy as np\n",
    "\n",
    "def read_file(filename=\"input.txt\", path=os.path.join(os.getcwd())):\n",
    "    with open(os.path.join(path, filename), \"r\") as f:\n",
    "        input_list = [line.strip() for line in f]\n",
    "    return input_list"
   ]
  },
  {
   "cell_type": "code",
   "execution_count": 7,
   "id": "a88686f9",
   "metadata": {},
   "outputs": [],
   "source": [
    "def preprocess_input(input_list):\n",
    "    return [int(x) for x in input_list.split(',')]"
   ]
  },
  {
   "cell_type": "code",
   "execution_count": 9,
   "id": "bd83f032",
   "metadata": {},
   "outputs": [],
   "source": [
    "example = \"16,1,2,0,4,2,7,1,2,14\"\n",
    "input_txt = read_file()[0]"
   ]
  },
  {
   "cell_type": "code",
   "execution_count": 18,
   "id": "62e8a97d",
   "metadata": {},
   "outputs": [
    {
     "name": "stdout",
     "output_type": "stream",
     "text": [
      "Least fuel possible is in position 323, and total fuel spent is 336701\n"
     ]
    }
   ],
   "source": [
    "import math\n",
    "\n",
    "ls = np.array(preprocess_input(input_txt))\n",
    "\n",
    "minimum_fuel = math.inf\n",
    "minimum_position = 0\n",
    "\n",
    "for i in range(min(ls), max(ls)+1):\n",
    "    total_fuel = 0\n",
    "    jump_next = False\n",
    "    for num in ls:\n",
    "        total_fuel += abs(num - i)\n",
    "        if total_fuel > minimum_fuel:\n",
    "            jump_next = True\n",
    "            break\n",
    "    if not jump_next:\n",
    "        minimum_fuel = total_fuel\n",
    "        minimum_position = i\n",
    "\n",
    "print(f\"Least fuel possible is in position {minimum_position}, and total fuel spent is {minimum_fuel}\")"
   ]
  },
  {
   "cell_type": "raw",
   "id": "71ea6d9c",
   "metadata": {},
   "source": [
    "--- Part Two ---\n",
    "The crabs don't seem interested in your proposed solution. Perhaps you misunderstand crab engineering?\n",
    "\n",
    "As it turns out, crab submarine engines don't burn fuel at a constant rate. Instead, each change of 1 step in horizontal position costs 1 more unit of fuel than the last: the first step costs 1, the second step costs 2, the third step costs 3, and so on.\n",
    "\n",
    "As each crab moves, moving further becomes more expensive. This changes the best horizontal position to align them all on; in the example above, this becomes 5:\n",
    "\n",
    "Move from 16 to 5: 66 fuel\n",
    "Move from 1 to 5: 10 fuel\n",
    "Move from 2 to 5: 6 fuel\n",
    "Move from 0 to 5: 15 fuel\n",
    "Move from 4 to 5: 1 fuel\n",
    "Move from 2 to 5: 6 fuel\n",
    "Move from 7 to 5: 3 fuel\n",
    "Move from 1 to 5: 10 fuel\n",
    "Move from 2 to 5: 6 fuel\n",
    "Move from 14 to 5: 45 fuel\n",
    "This costs a total of 168 fuel. This is the new cheapest possible outcome; the old alignment position (2) now costs 206 fuel instead.\n",
    "\n",
    "Determine the horizontal position that the crabs can align to using the least fuel possible so they can make you an escape route! How much fuel must they spend to align to that position?"
   ]
  },
  {
   "cell_type": "code",
   "execution_count": 19,
   "id": "b0cb2b68",
   "metadata": {},
   "outputs": [
    {
     "name": "stdout",
     "output_type": "stream",
     "text": [
      "Least fuel possible is in position 461, and total fuel spent is 95167302\n"
     ]
    }
   ],
   "source": [
    "import math\n",
    "\n",
    "ls = np.array(preprocess_input(input_txt))\n",
    "\n",
    "minimum_fuel = math.inf\n",
    "minimum_position = 0\n",
    "\n",
    "for i in range(min(ls), max(ls)+1):\n",
    "    total_fuel = 0\n",
    "    jump_next = False\n",
    "    for num in ls:\n",
    "        # Use euler's formula to sum from 1 to n\n",
    "        n = abs(num-i)\n",
    "        total_fuel += (n*(n+1))//2\n",
    "        if total_fuel > minimum_fuel:\n",
    "            jump_next = True\n",
    "            break\n",
    "    if not jump_next:\n",
    "        minimum_fuel = total_fuel\n",
    "        minimum_position = i\n",
    "\n",
    "print(f\"Least fuel possible is in position {minimum_position}, and total fuel spent is {minimum_fuel}\")"
   ]
  }
 ],
 "metadata": {
  "kernelspec": {
   "display_name": "Python 3 (ipykernel)",
   "language": "python",
   "name": "python3"
  },
  "language_info": {
   "codemirror_mode": {
    "name": "ipython",
    "version": 3
   },
   "file_extension": ".py",
   "mimetype": "text/x-python",
   "name": "python",
   "nbconvert_exporter": "python",
   "pygments_lexer": "ipython3",
   "version": "3.8.10"
  }
 },
 "nbformat": 4,
 "nbformat_minor": 5
}
